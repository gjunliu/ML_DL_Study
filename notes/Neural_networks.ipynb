{
  "nbformat": 4,
  "nbformat_minor": 0,
  "metadata": {
    "colab": {
      "provenance": []
    },
    "kernelspec": {
      "name": "python3",
      "display_name": "Python 3"
    },
    "language_info": {
      "name": "python"
    }
  },
  "cells": [
    {
      "cell_type": "markdown",
      "source": [
        "# Aritificial Neurons\n",
        "A **single neuron** in a deep neural network is the basic computational unit. It takes in one or more inputs, applies weights to them, sums them up, adds a bias, and passes the result through an **activation function**.\n",
        "\n",
        "## What a Single Neuron Does:\n",
        "Mathematically:\n",
        "\n",
        "\n",
        "$$y = \\sigma\\left( \\sum_{i=1}^{n} w_i x_i + b \\right)$$\n",
        "\n",
        "where:\n",
        "- $x_i$ = input values\n",
        "- $w_i$ = weights\n",
        "- $b$ = bias\n",
        "- $\\sigma$ = activation function (e.g. Sigmoid, ReLU)\n",
        "- $y$ = output of the neuron"
      ],
      "metadata": {
        "id": "cWRgBFWa5AJ_"
      }
    },
    {
      "cell_type": "markdown",
      "source": [
        "# Single Neuron in Python"
      ],
      "metadata": {
        "id": "aUNrGCer9EGg"
      }
    },
    {
      "cell_type": "code",
      "source": [
        "import numpy as np\n",
        "\n",
        "# Inputs, weights, and bias\n",
        "inputs = np.array([0.5, 0.8])\n",
        "weights = np.array([0.4, 0.7])\n",
        "bias = -0.1\n",
        "\n",
        "# Sigmoid activation\n",
        "def sigmoid(x):\n",
        "    return 1 / (1 + np.exp(-x))\n",
        "\n",
        "# ReLU activation\n",
        "def relu(x):\n",
        "    return max(0, x)\n",
        "\n",
        "\n",
        "# Neuron output\n",
        "\n",
        "# # Approach 1: Wighted sum\n",
        "# z = sum(w * x for w, x in zip(weights, inputs)) + bias\n",
        "\n",
        "# Approach 2: using numpy dot product function\n",
        "z = np.dot(weights, inputs) + bias\n",
        "\n",
        "output = sigmoid(z)\n",
        "# output = relu(z)"
      ],
      "metadata": {
        "id": "TLV-fJnt53Oj"
      },
      "execution_count": null,
      "outputs": []
    },
    {
      "cell_type": "markdown",
      "source": [
        "# Understand **Inputs**, **Weights** and **Bias**\n",
        "\n",
        "## Input Values($x$)\n",
        "There are the **features** or **signals** that feed into the neuron.\n",
        "- In an image: each pixel value (e.g., brightness) is an input.\n",
        "  - For example, a grayscale image of size 28×28 has 784 inputs (one for each pixel).\n",
        "- In text: each word or token embedding might be an input.\n",
        "- In tabular data: each column (feature) is an input.\n",
        "\n",
        "## Weights($w$)\n",
        "Weights determine the **importance** of each input.\n",
        "- A larger weight means the neuron pays more attention to that input.\n",
        "- A weight of zero means the neuron ignores that input.\n",
        "\n",
        "## Bias($b$)\n",
        "The bias allows the neuron to **shift** the activation function left or right.\n",
        "- Without bias, the neuron would always output zero when all inputs are zero.\n",
        "- Bias increases the model’s flexibility and ability to fit data.\n",
        "\n",
        "## Why they are often high-dimensional?\n",
        "**Real-world data is complex:** images, audio, video, or text involve many features.\n",
        "- A color image (224×224×3) has over 150,000 input values.\n",
        "- A 100-word sentence with 300-dim embeddings has 30,000 inputs.\n",
        "\n",
        "Each input feature needs a corresponding weight, so if inputs are high-dimensional, weights are too.\n",
        "\n",
        "In deep learning, high dimensionality enables the model to capture complex patterns, but it also requires careful regularization to avoid overfitting.\n",
        "\n",
        "## Intuition\n",
        "Think of a single neuron like this:\n",
        "\n",
        "- Inputs = What the neuron senses\n",
        "- Weights = What the neuron cares about\n",
        "- Bias = The neuron's sensitivity threshold\n",
        "- Activation = The neuron’s decision to act or not"
      ],
      "metadata": {
        "id": "4q3z3r4C_u5g"
      }
    },
    {
      "cell_type": "markdown",
      "source": [
        "## **Single Neuron Diagram**\n",
        "\n",
        "<pre>\n",
        "Input Features →    Weights     →     Sum + Bias     →   Activation   →   Output\n",
        "  [x₁, x₂, x₃]        [w₁, w₂, w₃]        + b               f(z)             y\n",
        "      │                   │                 │                 │              │\n",
        "      └── x₁ × w₁ ──┐     └──── x₂ × w₂ ─┐  │                 ↓              ↓\n",
        "                    ├───────────────► z = w·x + b ───► f(z) ────────► Output y\n",
        "      └── x₃ × w₃ ──┘                                (e.g., ReLU, sigmoid)\n",
        "</pre>\n",
        "\n"
      ],
      "metadata": {
        "id": "ldWGENcsD_bI"
      }
    },
    {
      "cell_type": "markdown",
      "source": [
        "## **From Neuron to Layer**\n",
        "\n",
        "When you have **multiple neurons** in a layer, each neuron independently performs 'single neuron diagram' computation but with its own weights and bias:\n",
        "\n",
        "         [x₁, x₂, x₃] → Layer\n",
        "               ↓\n",
        "       ┌──────────────┬──────────────┬──────────────┐\n",
        "       │  Neuron 1    │  Neuron 2    │  Neuron 3    │\n",
        "       │ w₁·x + b₁    │ w₂·x + b₂    │ w₃·x + b₃    │\n",
        "       └──────┬───────┴──────┬───────┴──────┬───────┘\n",
        "              ↓              ↓              ↓\n",
        "         Output y₁       Output y₂       Output y₃\n",
        "\n",
        "This gives a vector output (e.g., [y1, y2, y3]) — which can be passed to the next layer in a deep network.\n",
        "\n",
        "\n",
        "## Example: Real image input (e.g., 28x28 MNIST Digit)\n",
        "- Input: 784-dimensional vector (28×28 grayscale pixels flattened)\n",
        "- Hidden layer: 128 neurons → 128 different weight vectors (each size 784)\n",
        "- Output: 10 neurons (for digits 0–9)\n",
        "\n",
        "Each layer transforms data into a more **abstract representation**, leading to classification, detection, or prediction at the output."
      ],
      "metadata": {
        "id": "xSr5fC8VN3aw"
      }
    },
    {
      "cell_type": "code",
      "source": [
        "import numpy as np\n",
        "import matplotlib.pyplot as plt\n",
        "\n",
        "def relu(x):\n",
        "  return np.maximum(0, x)\n",
        "\n",
        "def sigmoid(x):\n",
        "  return 1 / (1 + np.exp(-x))\n",
        "\n",
        "# input: suppose 3 features\n",
        "x = np.array([0.6, 0.9, 0.1])\n",
        "\n",
        "# Single Neuron (random weights + bias)\n",
        "w = np.random.randn(3)\n",
        "b = np.random.randn()\n",
        "\n",
        "# Forward Pass through single neuron\n",
        "z = np.dot(w, x) + b\n",
        "output = relu(z)\n",
        "print(\"Single Neuron Output (ReLU):\", output)\n",
        "\n",
        "# A layer with 5 neurons\n",
        "# Simulate a layer with 5 neurons\n",
        "W = np.random.randn(5, 3)  # 5 neurons, each with 3 input weights\n",
        "b = np.random.randn(5)     # 5 biases (one per neuron)\n",
        "\n",
        "# Forward Pass\n",
        "z = np.dot(W, x) + b\n",
        "layer_output = relu(z)\n",
        "print(\"Layer Output (ReLU):\", layer_output)\n",
        "\n",
        "# Plot the output values of the neurons in the layer\n",
        "plt.figure(figsize=(6, 4))\n",
        "plt.bar(range(1, 6), layer_output)\n",
        "plt.xlabel('Neuron Index')\n",
        "plt.ylabel('Activation (ReLU)')\n",
        "plt.title('Activations from a 5-Neuron Layer')\n",
        "plt.grid(True)\n",
        "plt.show()"
      ],
      "metadata": {
        "colab": {
          "base_uri": "https://localhost:8080/",
          "height": 447
        },
        "id": "RDQUQX-MRuwG",
        "outputId": "1c327eee-3ec1-483d-8a41-95865f5ef495"
      },
      "execution_count": 2,
      "outputs": [
        {
          "output_type": "stream",
          "name": "stdout",
          "text": [
            "Single Neuron Output (ReLU): 0.4243057147656587\n",
            "Layer Output (ReLU): [0.         1.76778288 0.4947008  0.         1.96819568]\n"
          ]
        },
        {
          "output_type": "display_data",
          "data": {
            "text/plain": [
              "<Figure size 600x400 with 1 Axes>"
            ],
            "image/png": "[encoded data removed]"
          },
          "metadata": {}
        }
      ]
    },
    {
      "cell_type": "markdown",
      "source": [
        "## Extended to 2-layer Feedforward Neural Network"
      ],
      "metadata": {
        "id": "TstWfBrbU6zu"
      }
    },
    {
      "cell_type": "code",
      "source": [
        "# -------------------------------\n",
        "# Layer 1: 5 neurons (ReLU)\n",
        "# -------------------------------\n",
        "W1 = np.random.randn(5, 3)   # shape: (neurons, input_dim)\n",
        "b1 = np.random.randn(5)      # one bias per neuron\n",
        "\n",
        "z1 = np.dot(W1, x) + b1\n",
        "a1 = relu(z1)  # activation output from layer 1\n",
        "\n",
        "# -------------------------------\n",
        "# Layer 2: 2 neurons (Sigmoid)\n",
        "# -------------------------------\n",
        "W2 = np.random.randn(2, 5)   # shape: (neurons, previous_layer_dim)\n",
        "b2 = np.random.randn(2)\n",
        "\n",
        "z2 = np.dot(W2, a1) + b2\n",
        "a2 = sigmoid(z2)  # final output\n",
        "\n",
        "# Print outputs\n",
        "print(\"Layer 1 Output (ReLU):\", a1)\n",
        "print(\"Layer 2 Output (Sigmoid):\", a2)"
      ],
      "metadata": {
        "colab": {
          "base_uri": "https://localhost:8080/"
        },
        "id": "z_asiIsQVDxf",
        "outputId": "76d4250f-321b-480b-f821-6c06055b39f0"
      },
      "execution_count": 3,
      "outputs": [
        {
          "output_type": "stream",
          "name": "stdout",
          "text": [
            "Layer 1 Output (ReLU): [0.52763855 0.33515013 0.         0.         0.77305119]\n",
            "Layer 2 Output (Sigmoid): [0.37358924 0.22343856]\n"
          ]
        }
      ]
    },
    {
      "cell_type": "markdown",
      "source": [
        "# **Why Use Different Numbers of Neurons per Layer?**\n",
        "\n",
        "1. Dimensionality reduction and abstraction\n",
        "- As you go deeper into the network, the model abstracts features — from low-level (e.g. edges) to high-level (e.g. faces).\n",
        "- Fewer neurons in deeper layers can force the model to compress knowledge, encouraging generalization.\n",
        "  - e.x: Image input (784 neurons) → Hidden layer (256) → Hidden (128) → Output (10 classes)\n",
        "\n",
        "2. Feature Specialization\n",
        "- Wide early layers let the network capture many low-level patterns.\n",
        "- Later layers become more specialized and often need fewer neurons to combine features effectively.\n",
        "\n",
        "3. Regularization by Design\n",
        "- Using fewer neurons in deeper layers helps prevent overfitting by limiting model capacity.\n",
        "- It also reduces computational cost.\n",
        "\n"
      ],
      "metadata": {
        "id": "OLl-HPEHXU6c"
      }
    }
  ]
}